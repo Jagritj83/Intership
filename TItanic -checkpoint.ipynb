{
 "cells": [
  {
   "cell_type": "code",
   "execution_count": null,
   "id": "a3431226",
   "metadata": {},
   "outputs": [],
   "source": [
    "import pandas as pd\n",
    "import numpy as np"
   ]
  },
  {
   "cell_type": "code",
   "execution_count": null,
   "id": "5370503e",
   "metadata": {},
   "outputs": [],
   "source": [
    "train = pd.read_csv(\"https://github.com/dsrscientist/dataset1/blob/master/titanic_train.csv\")\n",
    "test = pd.read_csv(\"https://github.com/dsrscientist/dataset1/blob/master/titanic_train.csv\")"
   ]
  },
  {
   "cell_type": "code",
   "execution_count": null,
   "id": "614bfaf4",
   "metadata": {},
   "outputs": [],
   "source": [
    "train.isnull().sum()\n",
    "print(\"Train Shape:\",train.shape)\n",
    "test.isnull().sum()\n",
    "print(\"Test Shape:\",test.shape)\n",
    "Train Shape: (891, 12)\n",
    "Test Shape: (418, 11)"
   ]
  },
  {
   "cell_type": "code",
   "execution_count": null,
   "id": "367e0f9f",
   "metadata": {},
   "outputs": [],
   "source": [
    "train.info()\n",
    "<class 'pandas.core.frame.DataFrame'>\n",
    "RangeIndex: 891 entries, 0 to 890\n",
    "Data columns (total 12 columns):\n",
    "PassengerId    891 non-null int64\n",
    "Survived       891 non-null int64\n",
    "Pclass         891 non-null int64\n",
    "Name           891 non-null object\n",
    "Sex            891 non-null object\n",
    "Age            714 non-null float64\n",
    "SibSp          891 non-null int64\n",
    "Parch          891 non-null int64\n",
    "Ticket         891 non-null object\n",
    "Fare           891 non-null float64\n",
    "Cabin          204 non-null object\n",
    "Embarked       889 non-null object\n",
    "dtypes: float64(2), int64(5), object(5)\n",
    "memory usage: 83.6+ KB"
   ]
  },
  {
   "cell_type": "code",
   "execution_count": null,
   "id": "abb0c203",
   "metadata": {},
   "outputs": [],
   "source": [
    "test.info()\n",
    "<class 'pandas.core.frame.DataFrame'>\n",
    "RangeIndex: 418 entries, 0 to 417\n",
    "Data columns (total 11 columns):\n",
    "PassengerId    418 non-null int64\n",
    "Pclass         418 non-null int64\n",
    "Name           418 non-null object\n",
    "Sex            418 non-null object\n",
    "Age            332 non-null float64\n",
    "SibSp          418 non-null int64\n",
    "Parch          418 non-null int64\n",
    "Ticket         418 non-null object\n",
    "Fare           417 non-null float64\n",
    "Cabin          91 non-null object\n",
    "Embarked       418 non-null object\n",
    "dtypes: float64(2), int64(4), object(5)\n",
    "memory usage: 36.0+ KB\n",
    "Data Dictionary\n",
    "Survived: 0 = No, 1 = Yes\n",
    "pclass: Ticket class 1 = 1st, 2 = 2nd, 3 = 3rd\n",
    "sibsp: # of siblings / spouses aboard the Titanic\n",
    "parch: # of parents / children aboard the Titanic\n",
    "ticket: Ticket number\n",
    "cabin: Cabin number\n",
    "embarked: Port of Embarkation C = Cherbourg, Q = Queenstown, S = Southampton"
   ]
  },
  {
   "cell_type": "code",
   "execution_count": null,
   "id": "c329711a",
   "metadata": {},
   "outputs": [],
   "source": [
    "train.head(10)\n",
    "PassengerId\tSurvived\tPclass\tName\tSex\tAge\tSibSp\tParch\tTicket\tFare\tCabin\tEmbarked\n",
    "0\t1\t0\t3\tBraund, Mr. Owen Harris\tmale\t22.0\t1\t0\tA/5 21171\t7.2500\tNaN\tS\n",
    "1\t2\t1\t1\tCumings, Mrs. John Bradley (Florence Briggs Th...\tfemale\t38.0\t1\t0\tPC 17599\t71.2833\tC85\tC\n",
    "2\t3\t1\t3\tHeikkinen, Miss. Laina\tfemale\t26.0\t0\t0\tSTON/O2. 3101282\t7.9250\tNaN\tS\n",
    "3\t4\t1\t1\tFutrelle, Mrs. Jacques Heath (Lily May Peel)\tfemale\t35.0\t1\t0\t113803\t53.1000\tC123\tS\n",
    "4\t5\t0\t3\tAllen, Mr. William Henry\tmale\t35.0\t0\t0\t373450\t8.0500\tNaN\tS\n",
    "5\t6\t0\t3\tMoran, Mr. James\tmale\tNaN\t0\t0\t330877\t8.4583\tNaN\tQ\n",
    "6\t7\t0\t1\tMcCarthy, Mr. Timothy J\tmale\t54.0\t0\t0\t17463\t51.8625\tE46\tS\n",
    "7\t8\t0\t3\tPalsson, Master. Gosta Leonard\tmale\t2.0\t3\t1\t349909\t21.0750\tNaN\tS\n",
    "8\t9\t1\t3\tJohnson, Mrs. Oscar W (Elisabeth Vilhelmina Berg)\tfemale\t27.0\t0\t2\t347742\t11.1333\tNaN\tS\n",
    "9\t10\t1\t2\tNasser, Mrs. Nicholas (Adele Achem)\tfemale\t14.0\t1\t0\t237736\t30.0708\tNaN\tC"
   ]
  },
  {
   "cell_type": "code",
   "execution_count": null,
   "id": "72b1043f",
   "metadata": {},
   "outputs": [],
   "source": [
    "train.describe()\n",
    "PassengerId\tSurvived\tPclass\tAge\tSibSp\tParch\tFare\n",
    "count\t891.000000\t891.000000\t891.000000\t714.000000\t891.000000\t891.000000\t891.000000\n",
    "mean\t446.000000\t0.383838\t2.308642\t29.699118\t0.523008\t0.381594\t32.204208\n",
    "std\t257.353842\t0.486592\t0.836071\t14.526497\t1.102743\t0.806057\t49.693429\n",
    "min\t1.000000\t0.000000\t1.000000\t0.420000\t0.000000\t0.000000\t0.000000\n",
    "25%\t223.500000\t0.000000\t2.000000\t20.125000\t0.000000\t0.000000\t7.910400\n",
    "50%\t446.000000\t0.000000\t3.000000\t28.000000\t0.000000\t0.000000\t14.454200\n",
    "75%\t668.500000\t1.000000\t3.000000\t38.000000\t1.000000\t0.000000\t31.000000\n",
    "max\t891.000000\t1.000000\t3.000000\t80.000000\t8.000000\t6.000000\t512.329200"
   ]
  },
  {
   "cell_type": "code",
   "execution_count": null,
   "id": "349951c1",
   "metadata": {},
   "outputs": [],
   "source": [
    "test.describe()\n",
    "PassengerId\tPclass\tAge\tSibSp\tParch\tFare\n",
    "count\t418.000000\t418.000000\t332.000000\t418.000000\t418.000000\t417.000000\n",
    "mean\t1100.500000\t2.265550\t30.272590\t0.447368\t0.392344\t35.627188\n",
    "std\t120.810458\t0.841838\t14.181209\t0.896760\t0.981429\t55.907576\n",
    "min\t892.000000\t1.000000\t0.170000\t0.000000\t0.000000\t0.000000\n",
    "25%\t996.250000\t1.000000\t21.000000\t0.000000\t0.000000\t7.895800\n",
    "50%\t1100.500000\t3.000000\t27.000000\t0.000000\t0.000000\t14.454200\n",
    "75%\t1204.750000\t3.000000\t39.000000\t1.000000\t0.000000\t31.500000\n",
    "max\t1309.000000\t3.000000\t76.000000\t8.000000\t9.000000\t512.329200"
   ]
  },
  {
   "cell_type": "code",
   "execution_count": null,
   "id": "16ab9ced",
   "metadata": {},
   "outputs": [],
   "source": [
    "train.isnull().sum()\n",
    "PassengerId      0\n",
    "Survived         0\n",
    "Pclass           0\n",
    "Name             0\n",
    "Sex              0\n",
    "Age            177\n",
    "SibSp            0\n",
    "Parch            0\n",
    "Ticket           0\n",
    "Fare             0\n",
    "Cabin          687\n",
    "Embarked         2\n",
    "dtype: int64"
   ]
  },
  {
   "cell_type": "code",
   "execution_count": null,
   "id": "65b55cdb",
   "metadata": {},
   "outputs": [],
   "source": [
    "test.isnull().sum()\n",
    "test[\"Survived\"] = \"\"\n",
    "test.head()\n",
    "PassengerId\tPclass\tName\tSex\tAge\tSibSp\tParch\tTicket\tFare\tCabin\tEmbarked\tSurvived\n",
    "0\t892\t3\tKelly, Mr. James\tmale\t34.5\t0\t0\t330911\t7.8292\tNaN\tQ\t\n",
    "1\t893\t3\tWilkes, Mrs. James (Ellen Needs)\tfemale\t47.0\t1\t0\t363272\t7.0000\tNaN\tS\t\n",
    "2\t894\t2\tMyles, Mr. Thomas Francis\tmale\t62.0\t0\t0\t240276\t9.6875\tNaN\tQ\t\n",
    "3\t895\t3\tWirz, Mr. Albert\tmale\t27.0\t0\t0\t315154\t8.6625\tNaN\tS\t\n",
    "4\t896\t3\tHirvonen, Mrs. Alexander (Helga E Lindqvist)\tfemale\t22.0\t1\t1\t3101298\t12.2875\tNaN\tS\t"
   ]
  },
  {
   "cell_type": "code",
   "execution_count": null,
   "id": "8e2c5c47",
   "metadata": {},
   "outputs": [],
   "source": [
    "import matplotlib.pyplot as plt # Plot the graphes\n",
    "%matplotlib inline\n",
    "import seaborn as sns\n",
    "sns.set() # setting seaborn default for plots\n",
    "Bar Chart for Categorical Features\n",
    "Pclass\n",
    "Sex\n",
    "SibSp ( # of siblings and spouse)\n",
    "Parch ( # of parents and children)\n",
    "Embarked\n",
    "Cabin"
   ]
  },
  {
   "cell_type": "code",
   "execution_count": null,
   "id": "50ba2620",
   "metadata": {},
   "outputs": [],
   "source": [
    "def bar_chart(feature):\n",
    "    survived = train[train['Survived']==1][feature].value_counts()\n",
    "    dead = train[train['Survived']==0][feature].value_counts()\n",
    "    df = pd.DataFrame([survived,dead])\n",
    "    df.index = ['Survived','Dead']\n",
    "    df.plot(kind='bar',stacked=True, figsize=(10,5))"
   ]
  },
  {
   "cell_type": "code",
   "execution_count": null,
   "id": "25ab01a3",
   "metadata": {},
   "outputs": [],
   "source": [
    "bar_chart('Sex')\n",
    "print(\"Survived :\\n\",train[train['Survived']==1]['Sex'].value_counts())\n",
    "print(\"Dead:\\n\",train[train['Survived']==0]['Sex'].value_counts())\n",
    "Survived :\n",
    " female    233\n",
    "male      109\n",
    "Name: Sex, dtype: int64\n",
    "Dead:\n",
    " male      468\n",
    "female     81\n",
    "Name: Sex, dtype: int64"
   ]
  },
  {
   "cell_type": "code",
   "execution_count": null,
   "id": "25d45f7a",
   "metadata": {},
   "outputs": [],
   "source": [
    "bar_chart('Pclass')\n",
    "print(\"Survived :\\n\",train[train['Survived']==1]['Pclass'].value_counts())\n",
    "print(\"Dead:\\n\",train[train['Survived']==0]['Pclass'].value_counts())\n",
    "Survived :\n",
    " 1    136\n",
    "3    119\n",
    "2     87\n",
    "Name: Pclass, dtype: int64\n",
    "Dead:\n",
    " 3    372\n",
    "2     97\n",
    "1     80\n",
    "Name: Pclass, dtype: int64"
   ]
  },
  {
   "cell_type": "code",
   "execution_count": null,
   "id": "3ed06db2",
   "metadata": {},
   "outputs": [],
   "source": [
    "bar_chart('SibSp')\n",
    "print(\"Survived :\\n\",train[train['Survived']==1]['SibSp'].value_counts())\n",
    "print(\"Dead:\\n\",train[train['Survived']==0]['SibSp'].value_counts())\n",
    "Survived :\n",
    " 0    210\n",
    "1    112\n",
    "2     13\n",
    "3      4\n",
    "4      3\n",
    "Name: SibSp, dtype: int64\n",
    "Dead:\n",
    " 0    398\n",
    "1     97\n",
    "4     15\n",
    "2     15\n",
    "3     12\n",
    "8      7\n",
    "5      5\n",
    "Name: SibSp, dtype: int64"
   ]
  },
  {
   "cell_type": "code",
   "execution_count": null,
   "id": "ce19fc28",
   "metadata": {},
   "outputs": [],
   "source": [
    "bar_chart('Parch')\n",
    "print(\"Survived :\\n\",train[train['Survived']==1]['Parch'].value_counts())\n",
    "print(\"Dead:\\n\",train[train['Survived']==0]['Parch'].value_counts())\n",
    "Survived :\n",
    " 0    233\n",
    "1     65\n",
    "2     40\n",
    "3      3\n",
    "5      1\n",
    "Name: Parch, dtype: int64\n",
    "Dead:\n",
    " 0    445\n",
    "1     53\n",
    "2     40\n",
    "5      4\n",
    "4      4\n",
    "3      2\n",
    "6      1\n",
    "Name: Parch, dtype: int64"
   ]
  },
  {
   "cell_type": "code",
   "execution_count": null,
   "id": "1f303640",
   "metadata": {},
   "outputs": [],
   "source": [
    "bar_chart('Embarked')\n",
    "print(\"Survived :\\n\",train[train['Survived']==1]['Embarked'].value_counts())\n",
    "print(\"Dead:\\n\",train[train['Survived']==0]['Embarked'].value_counts())\n",
    "Survived :\n",
    " S    217\n",
    "C     93\n",
    "Q     30\n",
    "Name: Embarked, dtype: int64\n",
    "Dead:\n",
    " S    427\n",
    "C     75\n",
    "Q     47\n",
    "Name: Embarked, dtype: int64"
   ]
  },
  {
   "cell_type": "code",
   "execution_count": null,
   "id": "fdf5a9d1",
   "metadata": {},
   "outputs": [],
   "source": [
    "train.head()\n",
    "PassengerId\tSurvived\tPclass\tName\tSex\tAge\tSibSp\tParch\tTicket\tFare\tCabin\tEmbarked\n",
    "0\t1\t0\t3\tBraund, Mr. Owen Harris\tmale\t22.0\t1\t0\tA/5 21171\t7.2500\tNaN\tS\n",
    "1\t2\t1\t1\tCumings, Mrs. John Bradley (Florence Briggs Th...\tfemale\t38.0\t1\t0\tPC 17599\t71.2833\tC85\tC\n",
    "2\t3\t1\t3\tHeikkinen, Miss. Laina\tfemale\t26.0\t0\t0\tSTON/O2. 3101282\t7.9250\tNaN\tS\n",
    "3\t4\t1\t1\tFutrelle, Mrs. Jacques Heath (Lily May Peel)\tfemale\t35.0\t1\t0\t113803\t53.1000\tC123\tS\n",
    "4\t5\t0\t3\tAllen, Mr. William Henry\tmale\t35.0\t0\t0\t373450\t8.0500\tNaN\tS"
   ]
  },
  {
   "cell_type": "code",
   "execution_count": null,
   "id": "affb73f4",
   "metadata": {},
   "outputs": [],
   "source": [
    "Image(url= \"https://static1.squarespace.com/static/5006453fe4b09ef2252ba068/t/5090b249e4b047ba54dfd258/1351660113175/TIta"
   ]
  },
  {
   "cell_type": "code",
   "execution_count": null,
   "id": "bb319a67",
   "metadata": {},
   "outputs": [],
   "source": [
    "train.head(10)\n",
    "PassengerId\tSurvived\tPclass\tName\tSex\tAge\tSibSp\tParch\tTicket\tFare\tCabin\tEmbarked\n",
    "0\t1\t0\t3\tBraund, Mr. Owen Harris\tmale\t22.0\t1\t0\tA/5 21171\t7.2500\tNaN\tS\n",
    "1\t2\t1\t1\tCumings, Mrs. John Bradley (Florence Briggs Th...\tfemale\t38.0\t1\t0\tPC 17599\t71.2833\tC85\tC\n",
    "2\t3\t1\t3\tHeikkinen, Miss. Laina\tfemale\t26.0\t0\t0\tSTON/O2. 3101282\t7.9250\tNaN\tS\n",
    "3\t4\t1\t1\tFutrelle, Mrs. Jacques Heath (Lily May Peel)\tfemale\t35.0\t1\t0\t113803\t53.1000\tC123\tS\n",
    "4\t5\t0\t3\tAllen, Mr. William Henry\tmale\t35.0\t0\t0\t373450\t8.0500\tNaN\tS\n",
    "5\t6\t0\t3\tMoran, Mr. James\tmale\tNaN\t0\t0\t330877\t8.4583\tNaN\tQ\n",
    "6\t7\t0\t1\tMcCarthy, Mr. Timothy J\tmale\t54.0\t0\t0\t17463\t51.8625\tE46\tS\n",
    "7\t8\t0\t3\tPalsson, Master. Gosta Leonard\tmale\t2.0\t3\t1\t349909\t21.0750\tNaN\tS\n",
    "8\t9\t1\t3\tJohnson, Mrs. Oscar W (Elisabeth Vilhelmina Berg)\tfemale\t27.0\t0\t2\t347742\t11.1333\tNaN\tS\n",
    "9\t10\t1\t2\tNasser, Mrs. Nicholas (Adele Achem)\tfemale\t14.0\t1\t0\t237736\t30.0708\tNaN\tC"
   ]
  },
  {
   "cell_type": "code",
   "execution_count": null,
   "id": "655c742f",
   "metadata": {},
   "outputs": [],
   "source": [
    "train_test_data = [train,test] # combine dataset\n",
    "\n",
    "for dataset in train_test_data:\n",
    "    dataset['Title'] = dataset['Name'].str.extract(' ([A-Za-z]+)\\.', expand=False)"
   ]
  },
  {
   "cell_type": "code",
   "execution_count": null,
   "id": "6c766c8d",
   "metadata": {},
   "outputs": [],
   "source": [
    "train['Title'].value_counts()\n",
    "Mr          517\n",
    "Miss        182\n",
    "Mrs         125\n",
    "Master       40\n",
    "Dr            7\n",
    "Rev           6\n",
    "Mlle          2\n",
    "Col           2\n",
    "Major         2\n",
    "Lady          1\n",
    "Sir           1\n",
    "Mme           1\n",
    "Ms            1\n",
    "Don           1\n",
    "Countess      1\n",
    "Capt          1\n",
    "Jonkheer      1\n",
    "Name: Title, dtype: int64"
   ]
  },
  {
   "cell_type": "code",
   "execution_count": null,
   "id": "86be8c6d",
   "metadata": {},
   "outputs": [],
   "source": [
    "test['Title'].value_counts()\n",
    "Mr        240\n",
    "Miss       78\n",
    "Mrs        72\n",
    "Master     21\n",
    "Rev         2\n",
    "Col         2\n",
    "Dr          1\n",
    "Ms          1\n",
    "Dona        1\n",
    "Name: Title, dtype: int64"
   ]
  },
  {
   "cell_type": "code",
   "execution_count": null,
   "id": "eec9ec14",
   "metadata": {},
   "outputs": [],
   "source": [
    "title_mapping = {\"Mr\": 0, \"Miss\": 1, \"Mrs\": 2, \n",
    "                 \"Master\": 3, \"Dr\": 3, \"Rev\": 3, \"Col\": 3, \"Major\": 3, \"Mlle\": 3,\"Countess\": 3,\n",
    "                 \"Ms\": 3, \"Lady\": 3, \"Jonkheer\": 3, \"Don\": 3, \"Dona\" : 3, \"Mme\": 3,\"Capt\": 3,\"Sir\": 3 }\n",
    "\n",
    "for dataset in train_test_data:\n",
    "    dataset['Title'] = dataset[\"Title\"].map(title_mapping)"
   ]
  },
  {
   "cell_type": "code",
   "execution_count": null,
   "id": "585d42df",
   "metadata": {},
   "outputs": [],
   "source": [
    "dataset.head()\n",
    "PassengerId\tPclass\tName\tSex\tAge\tSibSp\tParch\tTicket\tFare\tCabin\tEmbarked\tSurvived\tTitle\n",
    "0\t892\t3\tKelly, Mr. James\tmale\t34.5\t0\t0\t330911\t7.8292\tNaN\tQ\t\t0\n",
    "1\t893\t3\tWilkes, Mrs. James (Ellen Needs)\tfemale\t47.0\t1\t0\t363272\t7.0000\tNaN\tS\t\t2\n",
    "2\t894\t2\tMyles, Mr. Thomas Francis\tmale\t62.0\t0\t0\t240276\t9.6875\tNaN\tQ\t\t0\n",
    "3\t895\t3\tWirz, Mr. Albert\tmale\t27.0\t0\t0\t315154\t8.6625\tNaN\tS\t\t0\n",
    "4\t896\t3\tHirvonen, Mrs. Alexander (Helga E Lindqvist)\tfemale\t22.0\t1\t1\t3101298\t12.2875\tNaN\tS\t\t2"
   ]
  },
  {
   "cell_type": "code",
   "execution_count": null,
   "id": "83ea2c85",
   "metadata": {},
   "outputs": [],
   "source": [
    "test.head()\n",
    "PassengerId\tPclass\tName\tSex\tAge\tSibSp\tParch\tTicket\tFare\tCabin\tEmbarked\tSurvived\tTitle\n",
    "0\t892\t3\tKelly, Mr. James\tmale\t34.5\t0\t0\t330911\t7.8292\tNaN\tQ\t\t0\n",
    "1\t893\t3\tWilkes, Mrs. James (Ellen Needs)\tfemale\t47.0\t1\t0\t363272\t7.0000\tNaN\tS\t\t2\n",
    "2\t894\t2\tMyles, Mr. Thomas Francis\tmale\t62.0\t0\t0\t240276\t9.6875\tNaN\tQ\t\t0\n",
    "3\t895\t3\tWirz, Mr. Albert\tmale\t27.0\t0\t0\t315154\t8.6625\tNaN\tS\t\t0\n",
    "4\t896\t3\tHirvonen, Mrs. Alexander (Helga E Lindqvist)\tfemale\t22.0\t1\t1\t3101298\t12.2875\tNaN\tS\t\t2"
   ]
  },
  {
   "cell_type": "code",
   "execution_count": null,
   "id": "4864f73e",
   "metadata": {},
   "outputs": [],
   "source": [
    "# delete unnecessary feature from dataset\n",
    "train.drop('Name', axis=1, inplace=True)\n",
    "test.drop('Name', axis=1, inplace=True)"
   ]
  },
  {
   "cell_type": "code",
   "execution_count": null,
   "id": "35fbccb2",
   "metadata": {},
   "outputs": [],
   "source": [
    "train.head()\n",
    "PassengerId\tSurvived\tPclass\tSex\tAge\tSibSp\tParch\tTicket\tFare\tCabin\tEmbarked\tTitle\n",
    "0\t1\t0\t3\tmale\t22.0\t1\t0\tA/5 21171\t7.2500\tNaN\tS\t0\n",
    "1\t2\t1\t1\tfemale\t38.0\t1\t0\tPC 17599\t71.2833\tC85\tC\t2\n",
    "2\t3\t1\t3\tfemale\t26.0\t0\t0\tSTON/O2. 3101282\t7.9250\tNaN\tS\t1\n",
    "3\t4\t1\t1\tfemale\t35.0\t1\t0\t113803\t53.1000\tC123\tS\t2\n",
    "4\t5\t0\t3\tmale\t35.0\t0\t0\t373450\t8.0500\tNaN\tS\t0"
   ]
  },
  {
   "cell_type": "code",
   "execution_count": null,
   "id": "2d8bf1b7",
   "metadata": {},
   "outputs": [],
   "source": [
    "sex_mapping = {\"male\": 0, \"female\": 1}\n",
    "for dataset in train_test_data:\n",
    "    dataset['Sex'] = dataset['Sex'].map(sex_mapping)"
   ]
  },
  {
   "cell_type": "code",
   "execution_count": null,
   "id": "a2f749fd",
   "metadata": {},
   "outputs": [],
   "source": [
    "bar_chart('Sex')"
   ]
  },
  {
   "cell_type": "code",
   "execution_count": null,
   "id": "ee81f81b",
   "metadata": {},
   "outputs": [],
   "source": [
    "test.head()\n",
    "PassengerId\tPclass\tSex\tAge\tSibSp\tParch\tTicket\tFare\tCabin\tEmbarked\tSurvived\tTitle\n",
    "0\t892\t3\t0\t34.5\t0\t0\t330911\t7.8292\tNaN\tQ\t\t0\n",
    "1\t893\t3\t1\t47.0\t1\t0\t363272\t7.0000\tNaN\tS\t\t2\n",
    "2\t894\t2\t0\t62.0\t0\t0\t240276\t9.6875\tNaN\tQ\t\t0\n",
    "3\t895\t3\t0\t27.0\t0\t0\t315154\t8.6625\tNaN\tS\t\t0\n",
    "4\t896\t3\t1\t22.0\t1\t1\t3101298\t12.2875\tNaN\tS\t\t2"
   ]
  },
  {
   "cell_type": "code",
   "execution_count": null,
   "id": "3127a554",
   "metadata": {},
   "outputs": [],
   "source": [
    "train[\"Age\"].fillna(train.groupby(\"Title\")[\"Age\"].transform(\"median\"), inplace= True)\n",
    "test[\"Age\"].fillna(test.groupby('Title')['Age'].transform(\"median\"), inplace= True)"
   ]
  },
  {
   "cell_type": "code",
   "execution_count": null,
   "id": "0ecd73ea",
   "metadata": {},
   "outputs": [],
   "source": [
    "train.head(30)\n",
    "#train.groupby(\"Title\")[\"Age\"].transform(\"median\")\n",
    "PassengerId\tSurvived\tPclass\tSex\tAge\tSibSp\tParch\tTicket\tFare\tCabin\tEmbarked\tTitle\n",
    "0\t1\t0\t3\t0\t22.0\t1\t0\tA/5 21171\t7.2500\tNaN\tS\t0\n",
    "1\t2\t1\t1\t1\t38.0\t1\t0\tPC 17599\t71.2833\tC85\tC\t2\n",
    "2\t3\t1\t3\t1\t26.0\t0\t0\tSTON/O2. 3101282\t7.9250\tNaN\tS\t1\n",
    "3\t4\t1\t1\t1\t35.0\t1\t0\t113803\t53.1000\tC123\tS\t2\n",
    "4\t5\t0\t3\t0\t35.0\t0\t0\t373450\t8.0500\tNaN\tS\t0\n",
    "5\t6\t0\t3\t0\t30.0\t0\t0\t330877\t8.4583\tNaN\tQ\t0\n",
    "6\t7\t0\t1\t0\t54.0\t0\t0\t17463\t51.8625\tE46\tS\t0\n",
    "7\t8\t0\t3\t0\t2.0\t3\t1\t349909\t21.0750\tNaN\tS\t3\n",
    "8\t9\t1\t3\t1\t27.0\t0\t2\t347742\t11.1333\tNaN\tS\t2\n",
    "9\t10\t1\t2\t1\t14.0\t1\t0\t237736\t30.0708\tNaN\tC\t2\n",
    "10\t11\t1\t3\t1\t4.0\t1\t1\tPP 9549\t16.7000\tG6\tS\t1\n",
    "11\t12\t1\t1\t1\t58.0\t0\t0\t113783\t26.5500\tC103\tS\t1\n",
    "12\t13\t0\t3\t0\t20.0\t0\t0\tA/5. 2151\t8.0500\tNaN\tS\t0\n",
    "13\t14\t0\t3\t0\t39.0\t1\t5\t347082\t31.2750\tNaN\tS\t0\n",
    "14\t15\t0\t3\t1\t14.0\t0\t0\t350406\t7.8542\tNaN\tS\t1\n",
    "15\t16\t1\t2\t1\t55.0\t0\t0\t248706\t16.0000\tNaN\tS\t2\n",
    "16\t17\t0\t3\t0\t2.0\t4\t1\t382652\t29.1250\tNaN\tQ\t3\n",
    "17\t18\t1\t2\t0\t30.0\t0\t0\t244373\t13.0000\tNaN\tS\t0\n",
    "18\t19\t0\t3\t1\t31.0\t1\t0\t345763\t18.0000\tNaN\tS\t2\n",
    "19\t20\t1\t3\t1\t35.0\t0\t0\t2649\t7.2250\tNaN\tC\t2\n",
    "20\t21\t0\t2\t0\t35.0\t0\t0\t239865\t26.0000\tNaN\tS\t0\n",
    "21\t22\t1\t2\t0\t34.0\t0\t0\t248698\t13.0000\tD56\tS\t0\n",
    "22\t23\t1\t3\t1\t15.0\t0\t0\t330923\t8.0292\tNaN\tQ\t1\n",
    "23\t24\t1\t1\t0\t28.0\t0\t0\t113788\t35.5000\tA6\tS\t0\n",
    "24\t25\t0\t3\t1\t8.0\t3\t1\t349909\t21.0750\tNaN\tS\t1\n",
    "25\t26\t1\t3\t1\t38.0\t1\t5\t347077\t31.3875\tNaN\tS\t2\n",
    "26\t27\t0\t3\t0\t30.0\t0\t0\t2631\t7.2250\tNaN\tC\t0\n",
    "27\t28\t0\t1\t0\t19.0\t3\t2\t19950\t263.0000\tC23 C25 C27\tS\t0\n",
    "28\t29\t1\t3\t1\t21.0\t0\t0\t330959\t7.8792\tNaN\tQ\t1\n",
    "29\t30\t0\t3\t0\t30.0\t0\t0\t349216\t7.8958\tNaN\tS\t0"
   ]
  },
  {
   "cell_type": "code",
   "execution_count": null,
   "id": "cb385954",
   "metadata": {},
   "outputs": [],
   "source": [
    "facet = sns.FacetGrid(train, hue=\"Survived\",aspect=4)\n",
    "facet.map(sns.kdeplot,'Age',shade= True)\n",
    "facet.set(xlim=(0, train['Age'].max()))\n",
    "facet.add_legend() \n",
    "plt.show()\n",
    "\n",
    "facet = sns.FacetGrid(train, hue=\"Survived\",aspect=4)\n",
    "facet.map(sns.kdeplot,'Age',shade= True)\n",
    "facet.set(xlim=(0, train['Age'].max()))\n",
    "facet.add_legend() \n",
    "plt.xlim(10,50)\n",
    "\n",
    "(10, 50)\n",
    "\n",
    "Those who were 20 to 30 years old were more dead and more survived."
   ]
  },
  {
   "cell_type": "code",
   "execution_count": null,
   "id": "82bd6a38",
   "metadata": {},
   "outputs": [],
   "source": [
    "train.info()\n",
    "test.info()\n",
    "<class 'pandas.core.frame.DataFrame'>\n",
    "RangeIndex: 891 entries, 0 to 890\n",
    "Data columns (total 12 columns):\n",
    "PassengerId    891 non-null int64\n",
    "Survived       891 non-null int64\n",
    "Pclass         891 non-null int64\n",
    "Sex            891 non-null int64\n",
    "Age            891 non-null float64\n",
    "SibSp          891 non-null int64\n",
    "Parch          891 non-null int64\n",
    "Ticket         891 non-null object\n",
    "Fare           891 non-null float64\n",
    "Cabin          204 non-null object\n",
    "Embarked       889 non-null object\n",
    "Title          891 non-null int64\n",
    "dtypes: float64(2), int64(7), object(3)\n",
    "memory usage: 83.6+ KB\n",
    "<class 'pandas.core.frame.DataFrame'>\n",
    "RangeIndex: 418 entries, 0 to 417\n",
    "Data columns (total 12 columns):\n",
    "PassengerId    418 non-null int64\n",
    "Pclass         418 non-null int64\n",
    "Sex            418 non-null int64\n",
    "Age            418 non-null float64\n",
    "SibSp          418 non-null int64\n",
    "Parch          418 non-null int64\n",
    "Ticket         418 non-null object\n",
    "Fare           417 non-null float64\n",
    "Cabin          91 non-null object\n",
    "Embarked       418 non-null object\n",
    "Survived       418 non-null object\n",
    "Title          418 non-null int64\n",
    "dtypes: float64(2), int64(6), object(4)\n",
    "memory usage: 39.3+ KB\n",
    "Binning\n",
    "\n",
    "Binning/Converting Numerical Age to Categorical Variable\n",
    "\n",
    "feature vector map:\n",
    "\n",
    "child: 0\n",
    "young: 1\n",
    "adult: 2\n",
    "mid-age: 3\n",
    "senior: 4"
   ]
  },
  {
   "cell_type": "code",
   "execution_count": null,
   "id": "4e108843",
   "metadata": {},
   "outputs": [],
   "source": [
    "train.head()\n",
    "PassengerId\tSurvived\tPclass\tSex\tAge\tSibSp\tParch\tTicket\tFare\tCabin\tEmbarked\tTitle\n",
    "0\t1\t0\t3\t0\t22.0\t1\t0\tA/5 21171\t7.2500\tNaN\tS\t0\n",
    "1\t2\t1\t1\t1\t38.0\t1\t0\tPC 17599\t71.2833\tC85\tC\t2\n",
    "2\t3\t1\t3\t1\t26.0\t0\t0\tSTON/O2. 3101282\t7.9250\tNaN\tS\t1\n",
    "3\t4\t1\t1\t1\t35.0\t1\t0\t113803\t53.1000\tC123\tS\t2\n",
    "4\t5\t0\t3\t0\t35.0\t0\t0\t373450\t8.0500\tNaN\tS\t0"
   ]
  },
  {
   "cell_type": "code",
   "execution_count": null,
   "id": "4db81ec9",
   "metadata": {},
   "outputs": [],
   "source": [
    "for dataset in train_test_data:\n",
    "    dataset.loc[ dataset['Age'] <= 16, 'Age'] = 0,\n",
    "    dataset.loc[(dataset['Age'] > 16) & (dataset['Age'] <= 26), 'Age'] = 1,\n",
    "    dataset.loc[(dataset['Age'] > 26) & (dataset['Age'] <= 36), 'Age'] = 2,\n",
    "    dataset.loc[(dataset['Age'] > 36) & (dataset['Age'] <= 62), 'Age'] = 3,\n",
    "    dataset.loc[ dataset['Age'] > 62, 'Age'] = 4\n",
    "# for dataset in train_test_data:\n",
    "#     dataset.loc[]\n",
    "#train[train['Age'].isin([23])]"
   ]
  },
  {
   "cell_type": "code",
   "execution_count": null,
   "id": "be7f3282",
   "metadata": {},
   "outputs": [],
   "source": [
    "train.head()\n",
    "bar_chart('Age')"
   ]
  },
  {
   "cell_type": "code",
   "execution_count": null,
   "id": "cb3d2420",
   "metadata": {},
   "outputs": [],
   "source": [
    "Pclass1 = train[train['Pclass'] == 1]['Embarked'].value_counts()\n",
    "Pclass2 = train[train['Pclass'] == 2]['Embarked'].value_counts()\n",
    "Pclass3 = train[train['Pclass'] == 3]['Embarked'].value_counts()\n",
    "df = pd.DataFrame([Pclass1,Pclass2,Pclass3])\n",
    "df.index = ['1st Class','2nd Class','3rd Class']\n",
    "df.plot(kind = 'bar', stacked =  True, figsize=(10,5))\n",
    "plt.show()\n",
    "print(\"Pclass1:\\n\",Pclass1)\n",
    "print(\"Pclass2:\\n\",Pclass2)\n",
    "print(\"Pclass3:\\n\",Pclass3)\n",
    "\n",
    "Pclass1:\n",
    " S    127\n",
    "C     85\n",
    "Q      2\n",
    "Name: Embarked, dtype: int64\n",
    "Pclass2:\n",
    " S    164\n",
    "C     17\n",
    "Q      3\n",
    "Name: Embarked, dtype: int64\n",
    "Pclass3:\n",
    " S    353\n",
    "Q     72\n",
    "C     66\n",
    "Name: Embarked, dtype: int64\n",
    "more than 50 % of 1st class are from S embark.\n",
    "more than 50 % of 2st class are from S embark.\n",
    "more than 50 % of 3st class are from S embark."
   ]
  },
  {
   "cell_type": "code",
   "execution_count": null,
   "id": "d941c8ef",
   "metadata": {},
   "outputs": [],
   "source": [
    "for dataset in train_test_data:\n",
    "    dataset['Embarked'] =  dataset['Embarked'].fillna('S')"
   ]
  },
  {
   "cell_type": "code",
   "execution_count": null,
   "id": "dae87460",
   "metadata": {},
   "outputs": [],
   "source": [
    "train.head()\n",
    "PassengerId\tSurvived\tPclass\tSex\tAge\tSibSp\tParch\tTicket\tFare\tCabin\tEmbarked\tTitle\n",
    "0\t1\t0\t3\t0\t1.0\t1\t0\tA/5 21171\t7.2500\tNaN\tS\t0\n",
    "1\t2\t1\t1\t1\t3.0\t1\t0\tPC 17599\t71.2833\tC85\tC\t2\n",
    "2\t3\t1\t3\t1\t1.0\t0\t0\tSTON/O2. 3101282\t7.9250\tNaN\tS\t1\n",
    "3\t4\t1\t1\t1\t2.0\t1\t0\t113803\t53.1000\tC123\tS\t2\n",
    "4\t5\t0\t3\t0\t2.0\t0\t0\t373450\t8.0500\tNaN\tS\t0"
   ]
  },
  {
   "cell_type": "code",
   "execution_count": null,
   "id": "2d2a18e8",
   "metadata": {},
   "outputs": [],
   "source": [
    "embarked_mapping = {'S':0,'C':1,'Q':2}\n",
    "for dataset in train_test_data:\n",
    "    dataset['Embarked'] = dataset['Embarked'].map(embarked_mapping)"
   ]
  },
  {
   "cell_type": "code",
   "execution_count": null,
   "id": "e0f89a32",
   "metadata": {},
   "outputs": [],
   "source": [
    "# train[\"Fare\"].fillna(train.groupby(\"Pclass\")[\"Fare\"])\n",
    "# train[\"Fare\"].fillna(train.groupby(\"Pclass\")[\"Fare\"].transform(\"median\"), inplace = True)\n",
    "# test[\"Fare\"].fillna(test.groupby(\"Pclass\")[\"Fare\"].transform(\"median\"), inplace = True)\n",
    "# train.head(50)\n",
    "\n",
    "\n",
    "# fill missing Fare with median fare for each Pclass\n",
    "train[\"Fare\"].fillna(train.groupby(\"Pclass\")[\"Fare\"].transform(\"median\"), inplace=True)\n",
    "test[\"Fare\"].fillna(test.groupby(\"Pclass\")[\"Fare\"].transform(\"median\"), inplace=True)\n",
    "train.head(50)\n",
    "PassengerId\tSurvived\tPclass\tSex\tAge\tSibSp\tParch\tTicket\tFare\tCabin\tEmbarked\tTitle\n",
    "0\t1\t0\t3\t0\t1.0\t1\t0\tA/5 21171\t7.2500\tNaN\t0\t0\n",
    "1\t2\t1\t1\t1\t3.0\t1\t0\tPC 17599\t71.2833\tC85\t1\t2\n",
    "2\t3\t1\t3\t1\t1.0\t0\t0\tSTON/O2. 3101282\t7.9250\tNaN\t0\t1\n",
    "3\t4\t1\t1\t1\t2.0\t1\t0\t113803\t53.1000\tC123\t0\t2\n",
    "4\t5\t0\t3\t0\t2.0\t0\t0\t373450\t8.0500\tNaN\t0\t0\n",
    "5\t6\t0\t3\t0\t2.0\t0\t0\t330877\t8.4583\tNaN\t2\t0\n",
    "6\t7\t0\t1\t0\t3.0\t0\t0\t17463\t51.8625\tE46\t0\t0\n",
    "7\t8\t0\t3\t0\t0.0\t3\t1\t349909\t21.0750\tNaN\t0\t3\n",
    "8\t9\t1\t3\t1\t2.0\t0\t2\t347742\t11.1333\tNaN\t0\t2\n",
    "9\t10\t1\t2\t1\t0.0\t1\t0\t237736\t30.0708\tNaN\t1\t2\n",
    "10\t11\t1\t3\t1\t0.0\t1\t1\tPP 9549\t16.7000\tG6\t0\t1\n",
    "11\t12\t1\t1\t1\t3.0\t0\t0\t113783\t26.5500\tC103\t0\t1\n",
    "12\t13\t0\t3\t0\t1.0\t0\t0\tA/5. 2151\t8.0500\tNaN\t0\t0\n",
    "13\t14\t0\t3\t0\t3.0\t1\t5\t347082\t31.2750\tNaN\t0\t0\n",
    "14\t15\t0\t3\t1\t0.0\t0\t0\t350406\t7.8542\tNaN\t0\t1\n",
    "15\t16\t1\t2\t1\t3.0\t0\t0\t248706\t16.0000\tNaN\t0\t2\n",
    "16\t17\t0\t3\t0\t0.0\t4\t1\t382652\t29.1250\tNaN\t2\t3\n",
    "17\t18\t1\t2\t0\t2.0\t0\t0\t244373\t13.0000\tNaN\t0\t0\n",
    "18\t19\t0\t3\t1\t2.0\t1\t0\t345763\t18.0000\tNaN\t0\t2\n",
    "19\t20\t1\t3\t1\t2.0\t0\t0\t2649\t7.2250\tNaN\t1\t2\n",
    "20\t21\t0\t2\t0\t2.0\t0\t0\t239865\t26.0000\tNaN\t0\t0\n",
    "21\t22\t1\t2\t0\t2.0\t0\t0\t248698\t13.0000\tD56\t0\t0\n",
    "22\t23\t1\t3\t1\t0.0\t0\t0\t330923\t8.0292\tNaN\t2\t1\n",
    "23\t24\t1\t1\t0\t2.0\t0\t0\t113788\t35.5000\tA6\t0\t0\n",
    "24\t25\t0\t3\t1\t0.0\t3\t1\t349909\t21.0750\tNaN\t0\t1\n",
    "25\t26\t1\t3\t1\t3.0\t1\t5\t347077\t31.3875\tNaN\t0\t2\n",
    "26\t27\t0\t3\t0\t2.0\t0\t0\t2631\t7.2250\tNaN\t1\t0\n",
    "27\t28\t0\t1\t0\t1.0\t3\t2\t19950\t263.0000\tC23 C25 C27\t0\t0\n",
    "28\t29\t1\t3\t1\t1.0\t0\t0\t330959\t7.8792\tNaN\t2\t1\n",
    "29\t30\t0\t3\t0\t2.0\t0\t0\t349216\t7.8958\tNaN\t0\t0\n",
    "30\t31\t0\t1\t0\t3.0\t0\t0\tPC 17601\t27.7208\tNaN\t1\t3\n",
    "31\t32\t1\t1\t1\t2.0\t1\t0\tPC 17569\t146.5208\tB78\t1\t2\n",
    "32\t33\t1\t3\t1\t1.0\t0\t0\t335677\t7.7500\tNaN\t2\t1\n",
    "33\t34\t0\t2\t0\t4.0\t0\t0\tC.A. 24579\t10.5000\tNaN\t0\t0\n",
    "34\t35\t0\t1\t0\t2.0\t1\t0\tPC 17604\t82.1708\tNaN\t1\t0\n",
    "35\t36\t0\t1\t0\t3.0\t1\t0\t113789\t52.0000\tNaN\t0\t0\n",
    "36\t37\t1\t3\t0\t2.0\t0\t0\t2677\t7.2292\tNaN\t1\t0\n",
    "37\t38\t0\t3\t0\t1.0\t0\t0\tA./5. 2152\t8.0500\tNaN\t0\t0\n",
    "38\t39\t0\t3\t1\t1.0\t2\t0\t345764\t18.0000\tNaN\t0\t1\n",
    "39\t40\t1\t3\t1\t0.0\t1\t0\t2651\t11.2417\tNaN\t1\t1\n",
    "40\t41\t0\t3\t1\t3.0\t1\t0\t7546\t9.4750\tNaN\t0\t2\n",
    "41\t42\t0\t2\t1\t2.0\t1\t0\t11668\t21.0000\tNaN\t0\t2\n",
    "42\t43\t0\t3\t0\t2.0\t0\t0\t349253\t7.8958\tNaN\t1\t0\n",
    "43\t44\t1\t2\t1\t0.0\t1\t2\tSC/Paris 2123\t41.5792\tNaN\t1\t1\n",
    "44\t45\t1\t3\t1\t1.0\t0\t0\t330958\t7.8792\tNaN\t2\t1\n",
    "45\t46\t0\t3\t0\t2.0\t0\t0\tS.C./A.4. 23567\t8.0500\tNaN\t0\t0\n",
    "46\t47\t0\t3\t0\t2.0\t1\t0\t370371\t15.5000\tNaN\t2\t0\n",
    "47\t48\t1\t3\t1\t1.0\t0\t0\t14311\t7.7500\tNaN\t2\t1\n",
    "48\t49\t0\t3\t0\t2.0\t2\t0\t2662\t21.6792\tNaN\t1\t0\n",
    "49\t50\t0\t3\t1\t1.0\t1\t0\t349237\t17.8000\tNaN\t0\t2\n"
   ]
  },
  {
   "cell_type": "code",
   "execution_count": null,
   "id": "79b8e5e1",
   "metadata": {},
   "outputs": [],
   "source": [
    "facet = sns.FacetGrid(train, hue=\"Survived\",aspect=4 )\n",
    "facet.map(sns.kdeplot, 'Fare', shade = True)\n",
    "facet.set(xlim = (0, train['Fare'].max()))\n",
    "facet.add_legend()\n",
    "plt.show()"
   ]
  },
  {
   "cell_type": "code",
   "execution_count": null,
   "id": "4a50d1c2",
   "metadata": {},
   "outputs": [],
   "source": [
    "facet = sns.FacetGrid(train, hue=\"Survived\",aspect=4)\n",
    "facet.map(sns.kdeplot,'Fare',shade= True)\n",
    "facet.set(xlim=(0, train['Fare'].max()))\n",
    "facet.add_legend()\n",
    "plt.xlim(0, 20)"
   ]
  },
  {
   "cell_type": "code",
   "execution_count": null,
   "id": "133ef796",
   "metadata": {},
   "outputs": [],
   "source": [
    "for dataset in train_test_data:\n",
    "    dataset.loc[dataset['Fare'] <= 17, 'Fare'] = 0,\n",
    "    dataset.loc[(dataset['Fare'] > 17) & (dataset['Fare'] <= 30), 'Fare'] = 1,\n",
    "    dataset.loc[(dataset['Fare'] > 30) & (dataset['Fare'] <= 100), 'Fare'] = 2,\n",
    "    dataset.loc[dataset['Fare'] >= 100, 'Fare'] = 3"
   ]
  },
  {
   "cell_type": "code",
   "execution_count": null,
   "id": "7d5d81c8",
   "metadata": {},
   "outputs": [],
   "source": [
    "train.head()\n",
    "PassengerId\tSurvived\tPclass\tSex\tAge\tSibSp\tParch\tTicket\tFare\tCabin\tEmbarked\tTitle\n",
    "0\t1\t0\t3\t0\t1.0\t1\t0\tA/5 21171\t0.0\tNaN\t0\t0\n",
    "1\t2\t1\t1\t1\t3.0\t1\t0\tPC 17599\t2.0\tC85\t1\t2\n",
    "2\t3\t1\t3\t1\t1.0\t0\t0\tSTON/O2. 3101282\t0.0\tNaN\t0\t1\n",
    "3\t4\t1\t1\t1\t2.0\t1\t0\t113803\t2.0\tC123\t0\t2\n",
    "4\t5\t0\t3\t0\t2.0\t0\t0\t373450\t0.0\tNaN\t0\t0"
   ]
  },
  {
   "cell_type": "code",
   "execution_count": null,
   "id": "e355d4e8",
   "metadata": {},
   "outputs": [],
   "source": [
    "train.Cabin.value_counts()\n",
    "B96 B98            4\n",
    "G6                 4\n",
    "C23 C25 C27        4\n",
    "E101               3\n",
    "C22 C26            3\n",
    "D                  3\n",
    "F2                 3\n",
    "F33                3\n",
    "B57 B59 B63 B66    2\n",
    "E24                2\n",
    "B20                2\n",
    "B22                2\n",
    "D17                2\n",
    "C92                2\n",
    "E33                2\n",
    "E67                2\n",
    "C52                2\n",
    "F4                 2\n",
    "B5                 2\n",
    "B49                2\n",
    "C65                2\n",
    "D36                2\n",
    "C93                2\n",
    "C78                2\n",
    "E25                2\n",
    "B28                2\n",
    "D33                2\n",
    "D20                2\n",
    "D35                2\n",
    "B18                2\n",
    "                  ..\n",
    "C62 C64            1\n",
    "B102               1\n",
    "E46                1\n",
    "B69                1\n",
    "E68                1\n",
    "C50                1\n",
    "C106               1\n",
    "D28                1\n",
    "E50                1\n",
    "D46                1\n",
    "B19                1\n",
    "C47                1\n",
    "A24                1\n",
    "C70                1\n",
    "E36                1\n",
    "C86                1\n",
    "A34                1\n",
    "C111               1\n",
    "A32                1\n",
    "D15                1\n",
    "B101               1\n",
    "A6                 1\n",
    "B41                1\n",
    "B94                1\n",
    "B50                1\n",
    "E17                1\n",
    "C104               1\n",
    "D56                1\n",
    "B78                1\n",
    "C95                1\n",
    "Name: Cabin, Length: 147, dtype: int64"
   ]
  },
  {
   "cell_type": "code",
   "execution_count": null,
   "id": "212a9eee",
   "metadata": {},
   "outputs": [],
   "source": [
    "for dataset in train_test_data:\n",
    "    dataset['Cabin'] =  dataset['Cabin'].str[:1]"
   ]
  },
  {
   "cell_type": "code",
   "execution_count": null,
   "id": "daa20eb0",
   "metadata": {},
   "outputs": [],
   "source": [
    "Pclass1 = train[train['Pclass']==1]['Cabin'].value_counts()\n",
    "Pclass2 = train[train['Pclass']==2]['Cabin'].value_counts()\n",
    "Pclass3 = train[train['Pclass']==3]['Cabin'].value_counts()\n",
    "df = pd.DataFrame([Pclass1, Pclass2, Pclass3])\n",
    "df.index = ['1st class','2nd class', '3rd class']\n",
    "df.plot(kind='bar',stacked=True, figsize=(10,5))\n",
    "<matplotlib.axes._subplots.AxesSubplot at 0x2085f6b8748>"
   ]
  },
  {
   "cell_type": "code",
   "execution_count": null,
   "id": "e3db8f72",
   "metadata": {},
   "outputs": [],
   "source": [
    "cabin_mapping = {\"A\": 0, \"B\": 0.4, \"C\": 0.8, \"D\": 1.2, \"E\": 1.6, \"F\": 2, \"G\": 2.4, \"T\": 2.8}\n",
    "for dataset in train_test_data:\n",
    "    dataset['Cabin'] = dataset['Cabin'].map(cabin_mapping)"
   ]
  },
  {
   "cell_type": "code",
   "execution_count": null,
   "id": "c9e86720",
   "metadata": {},
   "outputs": [],
   "source": [
    "# fill missing Fare with median fare for each Pclass\n",
    "train[\"Cabin\"].fillna(train.groupby(\"Pclass\")[\"Cabin\"].transform(\"median\"), inplace=True)\n",
    "test[\"Cabin\"].fillna(test.groupby(\"Pclass\")[\"Cabin\"].transform(\"median\"), inplace=True)"
   ]
  },
  {
   "cell_type": "code",
   "execution_count": null,
   "id": "935a4b0e",
   "metadata": {},
   "outputs": [],
   "source": [
    "train[\"FamilySize\"] = train[\"SibSp\"] + train[\"Parch\"] + 1\n",
    "test[\"FamilySize\"] = test[\"SibSp\"] + test[\"Parch\"] + 1"
   ]
  },
  {
   "cell_type": "code",
   "execution_count": null,
   "id": "1638ca11",
   "metadata": {},
   "outputs": [],
   "source": [
    "facet = sns.FacetGrid(train, hue=\"Survived\",aspect=4)\n",
    "facet.map(sns.kdeplot,'FamilySize',shade= True)\n",
    "facet.set(xlim=(0, train['FamilySize'].max()))\n",
    "facet.add_legend()\n",
    "plt.xlim(0)\n",
    "(0, 11.0)"
   ]
  },
  {
   "cell_type": "code",
   "execution_count": null,
   "id": "c4211cd7",
   "metadata": {},
   "outputs": [],
   "source": [
    "family_mapping = {1: 0, 2: 0.4, 3: 0.8, 4: 1.2, 5: 1.6, 6: 2, 7: 2.4, 8: 2.8, 9: 3.2, 10: 3.6, 11: 4}\n",
    "for dataset in train_test_data:\n",
    "    dataset['FamilySize'] = dataset['FamilySize'].map(family_mapping)"
   ]
  },
  {
   "cell_type": "code",
   "execution_count": null,
   "id": "429996ab",
   "metadata": {},
   "outputs": [],
   "source": [
    "train.head()\n",
    "PassengerId\tSurvived\tPclass\tSex\tAge\tSibSp\tParch\tTicket\tFare\tCabin\tEmbarked\tTitle\tFamilySize\n",
    "0\t1\t0\t3\t0\t1.0\t1\t0\tA/5 21171\t0.0\t2.0\t0\t0\t0.4\n",
    "1\t2\t1\t1\t1\t3.0\t1\t0\tPC 17599\t2.0\t0.8\t1\t2\t0.4\n",
    "2\t3\t1\t3\t1\t1.0\t0\t0\tSTON/O2. 3101282\t0.0\t2.0\t0\t1\t0.0\n",
    "3\t4\t1\t1\t1\t2.0\t1\t0\t113803\t2.0\t0.8\t0\t2\t0.4\n",
    "4\t5\t0\t3\t0\t2.0\t0\t0\t373450\t0.0\t2.0\t0\t0\t0.0"
   ]
  },
  {
   "cell_type": "code",
   "execution_count": null,
   "id": "3d4ab6dd",
   "metadata": {},
   "outputs": [],
   "source": [
    "features_drop = ['Ticket','SibSp','Parch']\n",
    "train = train.drop(features_drop, axis = 1)\n",
    "test = test.drop(features_drop,axis=1)\n",
    "train = train.drop(['PassengerId'], axis=1)"
   ]
  },
  {
   "cell_type": "code",
   "execution_count": null,
   "id": "cd178744",
   "metadata": {},
   "outputs": [],
   "source": [
    "train_data = train.drop('Survived', axis = 1)\n",
    "target = train['Survived']\n",
    "train_data.shape, target.shape\n",
    "((891, 8), (891,))"
   ]
  },
  {
   "cell_type": "code",
   "execution_count": null,
   "id": "505585c9",
   "metadata": {},
   "outputs": [],
   "source": [
    "train_data.head(10)\n",
    "Pclass\tSex\tAge\tFare\tCabin\tEmbarked\tTitle\tFamilySize\n",
    "0\t3\t0\t1.0\t0.0\t2.0\t0\t0\t0.4\n",
    "1\t1\t1\t3.0\t2.0\t0.8\t1\t2\t0.4\n",
    "2\t3\t1\t1.0\t0.0\t2.0\t0\t1\t0.0\n",
    "3\t1\t1\t2.0\t2.0\t0.8\t0\t2\t0.4\n",
    "4\t3\t0\t2.0\t0.0\t2.0\t0\t0\t0.0\n",
    "5\t3\t0\t2.0\t0.0\t2.0\t2\t0\t0.0\n",
    "6\t1\t0\t3.0\t2.0\t1.6\t0\t0\t0.0\n",
    "7\t3\t0\t0.0\t1.0\t2.0\t0\t3\t1.6\n",
    "8\t3\t1\t2.0\t0.0\t2.0\t0\t2\t0.8\n",
    "9\t2\t1\t0.0\t2.0\t1.8\t1\t2\t0.4"
   ]
  },
  {
   "cell_type": "code",
   "execution_count": null,
   "id": "6c637af0",
   "metadata": {},
   "outputs": [],
   "source": [
    "# Importing Classifier Modules\n",
    "from sklearn.neighbors import KNeighborsClassifier\n",
    "from sklearn.tree import DecisionTreeClassifier,ExtraTreeClassifier\n",
    "from sklearn.ensemble import RandomForestClassifier,ExtraTreesClassifier,BaggingClassifier,AdaBoostClassifier,GradientBoostingClassifier\n",
    "from sklearn.naive_bayes import GaussianNB\n",
    "from sklearn.svm import SVC\n",
    "\n",
    "import numpy as np"
   ]
  },
  {
   "cell_type": "code",
   "execution_count": null,
   "id": "9bb332dc",
   "metadata": {},
   "outputs": [],
   "source": [
    "train.info()\n",
    "<class 'pandas.core.frame.DataFrame'>\n",
    "RangeIndex: 891 entries, 0 to 890\n",
    "Data columns (total 9 columns):\n",
    "Survived      891 non-null int64\n",
    "Pclass        891 non-null int64\n",
    "Sex           891 non-null int64\n",
    "Age           891 non-null float64\n",
    "Fare          891 non-null float64\n",
    "Cabin         891 non-null float64\n",
    "Embarked      891 non-null int64\n",
    "Title         891 non-null int64\n",
    "FamilySize    891 non-null float64\n",
    "dtypes: float64(4), int64(5)\n",
    "memory usage: 62.7 KB"
   ]
  },
  {
   "cell_type": "code",
   "execution_count": null,
   "id": "954b9812",
   "metadata": {},
   "outputs": [],
   "source": [
    "from sklearn.model_selection import KFold\n",
    "from sklearn.model_selection import cross_val_score\n",
    "k_fold = KFold(n_splits=10, shuffle=True, random_state=0)"
   ]
  },
  {
   "cell_type": "code",
   "execution_count": null,
   "id": "90707e83",
   "metadata": {},
   "outputs": [],
   "source": [
    "clf = KNeighborsClassifier(n_neighbors = 13)\n",
    "scoring = 'accuracy'\n",
    "score = cross_val_score(clf, train_data, target, cv=k_fold, n_jobs=1, scoring=scoring)\n",
    "print(score)\n",
    "[0.82222222 0.76404494 0.80898876 0.83146067 0.87640449 0.82022472\n",
    " 0.85393258 0.79775281 0.84269663 0.84269663]"
   ]
  },
  {
   "cell_type": "code",
   "execution_count": null,
   "id": "814f2119",
   "metadata": {},
   "outputs": [],
   "source": [
    "#learning_rates = [0.05, 0.1, 0.25, 0.5, 0.75, 1]\n",
    "clf = [KNeighborsClassifier(n_neighbors = 13),DecisionTreeClassifier(),\n",
    "       RandomForestClassifier(n_estimators=13),GaussianNB(),SVC(),ExtraTreeClassifier(),\n",
    "      GradientBoostingClassifier(n_estimators=10, learning_rate=1,max_features=3, max_depth =3, random_state = 10),AdaBoostClassifier(),ExtraTreesClassifier()]\n",
    "def model_fit():\n",
    "    scoring = 'accuracy'\n",
    "    for i in range(len(clf)):\n",
    "        score = cross_val_score(clf[i], train_data, target, cv=k_fold, n_jobs=1, scoring=scoring)\n",
    "        print(\"Score of Model\",i,\":\",round(np.mean(score)*100,2))\n",
    "#     round(np.mean(score)*100,2)\n",
    "#     print(\"Score of :\\n\",score)\n",
    "model_fit()\n",
    "Score of Model 0 : 82.6\n",
    "Score of Model 1 : 79.8\n",
    "Score of Model 2 : 80.92\n",
    "Score of Model 3 : 78.78\n",
    "Score of Model 4 : 83.5\n",
    "Score of Model 5 : 80.02\n",
    "Score of Model 6 : 81.25\n",
    "Score of Model 7 : 81.03\n",
    "Score of Model 8 : 80.7"
   ]
  },
  {
   "cell_type": "code",
   "execution_count": null,
   "id": "ab824349",
   "metadata": {},
   "outputs": [],
   "source": [
    "clf1 = SVC()\n",
    "clf1.fit(train_data, target)\n",
    "test\n",
    "test_data = test.drop(['Survived','PassengerId'], axis=1)\n",
    "prediction = clf1.predict(test_data)\n",
    "# test_data"
   ]
  },
  {
   "cell_type": "code",
   "execution_count": null,
   "id": "068c0a4a",
   "metadata": {},
   "outputs": [],
   "source": [
    "test_data['Survived'] = prediction\n",
    "submission = pd.DataFrame(test['PassengerId'],test_data['Survived'])\n",
    "submission.to_csv(\"Submission.csv\")"
   ]
  }
 ],
 "metadata": {
  "kernelspec": {
   "display_name": "Python 3 (ipykernel)",
   "language": "python",
   "name": "python3"
  },
  "language_info": {
   "codemirror_mode": {
    "name": "ipython",
    "version": 3
   },
   "file_extension": ".py",
   "mimetype": "text/x-python",
   "name": "python",
   "nbconvert_exporter": "python",
   "pygments_lexer": "ipython3",
   "version": "3.10.9"
  }
 },
 "nbformat": 4,
 "nbformat_minor": 5
}
